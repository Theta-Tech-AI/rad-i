{
 "cells": [
  {
   "cell_type": "code",
   "execution_count": null,
   "metadata": {},
   "outputs": [],
   "source": [
    "import matplotlib.pyplot as plt\n",
    "import numpy as np\n",
    "import random\n",
    "import math\n",
    "import SimpleITK as sitk\n",
    "import mahotas as mt\n",
    "import collageradiomics\n",
    "\n",
    "from matplotlib.patches import Rectangle\n",
    "from scipy import linalg\n",
    "from skimage.util.shape import view_as_windows\n",
    "from matplotlib.gridspec import GridSpec\n",
    "from mpl_toolkits.axes_grid1 import make_axes_locatable\n",
    "from itertools import product\n",
    "from eolearn.features.haralick import HaralickTask\n",
    "from eolearn.core import EOPatch\n",
    "from skimage.feature.texture import greycomatrix"
   ]
  },
  {
   "cell_type": "code",
   "execution_count": null,
   "metadata": {
    "scrolled": true
   },
   "outputs": [],
   "source": [
    "# Read image\n",
    "img_s = sitk.ReadImage('../sample_data/ImageSlice.png')\n",
    "img_array = sitk.GetArrayFromImage(img_s)"
   ]
  },
  {
   "cell_type": "code",
   "execution_count": null,
   "metadata": {},
   "outputs": [],
   "source": [
    "# Create random window.\n",
    "svd_radius = 5\n",
    "patch_window_width = 30\n",
    "patch_window_height = 30\n",
    "mask_min_x = 252\n",
    "mask_min_y = 193\n",
    "mask_max_x = mask_min_x + patch_window_width\n",
    "mask_max_y = mask_min_y + patch_window_height"
   ]
  },
  {
   "cell_type": "code",
   "execution_count": null,
   "metadata": {},
   "outputs": [],
   "source": [
    "# Read image\n",
    "img_s = sitk.ReadImage('../sample_data/ImageSlice.png')\n",
    "img_array = sitk.GetArrayFromImage(img_s)"
   ]
  },
  {
   "cell_type": "code",
   "execution_count": null,
   "metadata": {},
   "outputs": [],
   "source": [
    "collage = collageradiomics.Collage(img_array, mask_min_x, mask_min_y, mask_max_x, mask_max_y, patch_window_width, patch_window_height, svd_radius, verbose_logging=True)"
   ]
  },
  {
   "cell_type": "code",
   "execution_count": null,
   "metadata": {},
   "outputs": [],
   "source": [
    "haralick_features = collage.execute()"
   ]
  },
  {
   "cell_type": "code",
   "execution_count": null,
   "metadata": {
    "scrolled": false
   },
   "outputs": [],
   "source": [
    "# Display patch\n",
    "print(collageradiomics.highlight_rectangle_on_image(img_array, mask_min_x, mask_min_y, patch_window_width, patch_window_height).shape)"
   ]
  },
  {
   "cell_type": "code",
   "execution_count": null,
   "metadata": {},
   "outputs": [],
   "source": [
    "# Display gradient\n",
    "figure, axes = plt.subplots(1, 2, figsize=(15, 15))\n",
    "collageradiomics.show_colored_image(figure, axes[0], collage.dx)\n",
    "axes[0].set_title(f'Gx size={collage.dx.shape}')\n",
    "collageradiomics.show_colored_image(figure, axes[1], collage.dy)\n",
    "axes[1].set_title(f'Gy size={collage.dy.shape}')"
   ]
  },
  {
   "cell_type": "code",
   "execution_count": null,
   "metadata": {
    "scrolled": false
   },
   "outputs": [],
   "source": [
    "# Display dominant angles\n",
    "figure, axes = plt.subplots(1, 2, figsize=(15, 15))\n",
    "collageradiomics.show_colored_image(figure, axes[0], collage.dominant_angles_array)\n",
    "axes[0].set_title('Dominant Angles (SVD)')\n",
    "collageradiomics.show_colored_image(figure, axes[1], collage.dominant_angles_shaped)\n",
    "axes[1].set_title('Dominant Angles (Color Binned)')"
   ]
  },
  {
   "cell_type": "code",
   "execution_count": null,
   "metadata": {},
   "outputs": [],
   "source": [
    "# Display dominant angles color-binned\n",
    "figure, axis = plt.subplots(1,1, figsize=(5,5))\n",
    "collageradiomics.show_colored_image(figure, axis, collage.dominant_angles_shaped)"
   ]
  },
  {
   "cell_type": "code",
   "execution_count": null,
   "metadata": {},
   "outputs": [],
   "source": [
    "# Display haralick\n",
    "figure, axes = plt.subplots(3, 5, figsize=(15,15))\n",
    "\n",
    "for row in range(3):\n",
    "    for col in range(5):\n",
    "        feature = row*5+col\n",
    "        axis = axes[row][col]\n",
    "        axis.set_axis_off()\n",
    "        if feature>=13:\n",
    "            continue\n",
    "        collageradiomics.show_colored_image(figure, axis, haralick_features[:,:,feature])\n",
    "        axis.set_title(f'Har {feature+1}')"
   ]
  },
  {
   "cell_type": "code",
   "execution_count": null,
   "metadata": {},
   "outputs": [],
   "source": []
  }
 ],
 "metadata": {
  "kernelspec": {
   "display_name": "Python 3",
   "language": "python",
   "name": "python3"
  },
  "language_info": {
   "codemirror_mode": {
    "name": "ipython",
    "version": 3
   },
   "file_extension": ".py",
   "mimetype": "text/x-python",
   "name": "python",
   "nbconvert_exporter": "python",
   "pygments_lexer": "ipython3",
   "version": "3.8.2"
  }
 },
 "nbformat": 4,
 "nbformat_minor": 4
}
