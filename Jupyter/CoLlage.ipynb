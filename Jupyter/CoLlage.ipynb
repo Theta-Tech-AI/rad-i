{
 "cells": [
  {
   "cell_type": "code",
   "execution_count": 83,
   "metadata": {},
   "outputs": [],
   "source": [
    "from PIL import Image\n",
    "import matplotlib.pyplot as plt\n",
    "from matplotlib.patches import Rectangle\n",
    "import numpy as np\n",
    "from scipy import ndimage\n",
    "from skimage.util.shape import view_as_windows\n",
    "import random"
   ]
  },
  {
   "cell_type": "code",
   "execution_count": 84,
   "metadata": {},
   "outputs": [],
   "source": [
    "# Read sample data.\n",
    "img = Image.open('../sample_data/ImageSlice.png')"
   ]
  },
  {
   "cell_type": "code",
   "execution_count": 85,
   "metadata": {},
   "outputs": [],
   "source": [
    "# Turn image into a Numpy array.\n",
    "imgArray = np.array(img, dtype=np.uint8)"
   ]
  },
  {
   "cell_type": "code",
   "execution_count": 86,
   "metadata": {},
   "outputs": [],
   "source": [
    "# Create rectangle point, width, and height.\n",
    "x, y, w, h = 300, 200, 100, 100"
   ]
  },
  {
   "cell_type": "code",
   "execution_count": null,
   "metadata": {},
   "outputs": [],
   "source": [
    "# Take the rectangle and highlight image.\n",
    "fig, ax = plt.subplots(1)\n",
    "ax.imshow(imgArray)\n",
    "rect = Rectangle((x, y), w, h, linewidth=1, edgecolor='r', facecolor='none')\n",
    "ax.add_patch(rect)\n",
    "plt.show()"
   ]
  },
  {
   "cell_type": "code",
   "execution_count": null,
   "metadata": {},
   "outputs": [],
   "source": [
    "# Crop image from highlighted rectangle.\n",
    "cropped = img.crop((x, y, x+w, h+y))\n",
    "cropped"
   ]
  },
  {
   "cell_type": "code",
   "execution_count": null,
   "metadata": {},
   "outputs": [],
   "source": [
    "# Blow up image for visualization.\n",
    "cropped.resize((w*4, h*4))"
   ]
  },
  {
   "cell_type": "code",
   "execution_count": null,
   "metadata": {},
   "outputs": [],
   "source": [
    "imgArray = imgArray[:,:,0]\n",
    "imgArray.shape"
   ]
  },
  {
   "cell_type": "code",
   "execution_count": null,
   "metadata": {},
   "outputs": [],
   "source": [
    "# Define kernel for x differences\n",
    "kx = np.array([[1,0,-1],[2,0,-2],[1,0,-1]])\n",
    "# Define kernel for y differences\n",
    "ky = np.array([[1,2,1] ,[0,0,0], [-1,-2,-1]])\n",
    "# Perform x convolution\n",
    "dx=ndimage.convolve(imgArray,kx)\n",
    "# Perform y convolution\n",
    "dy=ndimage.convolve(imgArray,ky)\n",
    "plt.imshow(dx,cmap=plt.cm.gray)\n",
    "plt.show()"
   ]
  },
  {
   "cell_type": "code",
   "execution_count": null,
   "metadata": {},
   "outputs": [],
   "source": [
    "window_size = random.randint(200,400)\n",
    "windows = view_as_windows(dx, (window_size,window_size))\n",
    "y,x = random.randint(0, windows.shape[0] - 1), random.randint(0, windows.shape[1] - 1)\n",
    "print('x={} y={} l={} window_shape={}'.format(x, y, window_size, windows.shape))\n",
    "dx_patch = windows[y, x]\n",
    "fig, ax = plt.subplots(1)\n",
    "ax.imshow(dx,cmap=plt.cm.gray)\n",
    "rect = Rectangle((x, y), window_size, window_size, linewidth=1, edgecolor='r', facecolor='none')\n",
    "ax.add_patch(rect)\n",
    "plt.show()\n",
    "plt.imshow(dx_patch,cmap=plt.cm.gray)\n",
    "plt.show()"
   ]
  }
 ],
 "metadata": {
  "kernelspec": {
   "display_name": "Python 3",
   "language": "python",
   "name": "python3"
  },
  "language_info": {
   "codemirror_mode": {
    "name": "ipython",
    "version": 3
   },
   "file_extension": ".py",
   "mimetype": "text/x-python",
   "name": "python",
   "nbconvert_exporter": "python",
   "pygments_lexer": "ipython3",
   "version": "3.8.2"
  }
 },
 "nbformat": 4,
 "nbformat_minor": 4
}
