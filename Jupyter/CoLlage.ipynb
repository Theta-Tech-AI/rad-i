{
 "cells": [
  {
   "cell_type": "code",
   "execution_count": null,
   "metadata": {},
   "outputs": [],
   "source": [
    "from PIL import Image\n",
    "import matplotlib.pyplot as plt\n",
    "from matplotlib.patches import Rectangle\n",
    "import numpy as np\n",
    "from scipy import ndimage\n",
    "from scipy import linalg\n",
    "from skimage.util.shape import view_as_windows\n",
    "import random\n",
    "import math\n",
    "from matplotlib.gridspec import GridSpec\n",
    "import matplotlib.patches as mpatches\n",
    "from mpl_toolkits.axes_grid1 import make_axes_locatable\n",
    "from skimage import io\n",
    "import radiomics\n",
    "from enum import Enum\n",
    "from radiomics.glcm import RadiomicsGLCM\n",
    "import SimpleITK as sitk\n",
    "import imageio\n",
    "from itertools import product\n",
    "import mahotas as mt\n",
    "from eolearn.features.haralick import HaralickTask\n",
    "from eolearn.core import EOPatch\n",
    "from skimage.feature.texture import greycomatrix"
   ]
  },
  {
   "cell_type": "code",
   "execution_count": null,
   "metadata": {},
   "outputs": [],
   "source": [
    "# Read sample data.\n",
    "img_s = sitk.ReadImage('../sample_data/ImageSlice.png')\n",
    "mask_s = sitk.ReadImage('../sample_data/ImageMask.png')"
   ]
  },
  {
   "cell_type": "code",
   "execution_count": null,
   "metadata": {
    "scrolled": true
   },
   "outputs": [],
   "source": [
    "# Turn image into a Numpy array.\n",
    "img_array = sitk.GetArrayFromImage(img_s)\n",
    "img_array = img_array[:,:,0]\n",
    "print(f'IMAGE:\\nwidth={img_array.shape[0]} height={img_array.shape[1]}')"
   ]
  },
  {
   "cell_type": "code",
   "execution_count": null,
   "metadata": {},
   "outputs": [],
   "source": [
    "# Create random window.\n",
    "patch_window_width = 47\n",
    "patch_window_height = 51\n",
    "svd_window_size = 10\n",
    "# 252-303 = 51\n",
    "# 193-240 = 47\n",
    "haralick_window_size = svd_window_size * 2 + 1\n",
    "mask_min_x = 252\n",
    "mask_min_y = 193\n",
    "mask_max_x = 298\n",
    "mask_max_y = 233"
   ]
  },
  {
   "cell_type": "code",
   "execution_count": null,
   "metadata": {},
   "outputs": [],
   "source": [
    "def show_colored_image(figure, axis, image_data, colormap=plt.cm.jet):\n",
    "    image = axis.imshow(image_data, cmap=colormap)\n",
    "    divider = make_axes_locatable(axis)\n",
    "    colorbar_axis = divider.append_axes(\"right\", size=\"5%\", pad=0.05)\n",
    "    figure.colorbar(image, cax=colorbar_axis)\n",
    "\n",
    "def create_highlighted_rectangle(x, y, w, h):\n",
    "    return Rectangle((x, y), w, h, linewidth=3, edgecolor='cyan', facecolor='none')\n",
    "\n",
    "def highlight_rectangle_on_image(image_data, min_x, min_y, w, h, colormap=plt.cm.gray):\n",
    "    figure, axes = plt.subplots(1,2, figsize=(15,15))\n",
    "\n",
    "    # Highlight window within image.\n",
    "    show_colored_image(figure, axes[0], image_data, colormap)\n",
    "    axes[0].add_patch(create_highlighted_rectangle(min_x, min_y, w, h))\n",
    "\n",
    "    # Crop window.\n",
    "    cropped_array = image_data[min_y:min_y+h, min_x:min_x+w]\n",
    "    axes[1].set_title(f'Cropped Region ({w}x{h})')\n",
    "    show_colored_image(figure, axes[1], cropped_array, colormap)\n",
    "    \n",
    "    plt.show()\n",
    "    \n",
    "    return cropped_array"
   ]
  },
  {
   "cell_type": "code",
   "execution_count": null,
   "metadata": {
    "scrolled": false
   },
   "outputs": [],
   "source": [
    "cropped_array = highlight_rectangle_on_image(img_array, mask_min_x, mask_min_y, patch_window_width, patch_window_height)"
   ]
  },
  {
   "cell_type": "code",
   "execution_count": null,
   "metadata": {},
   "outputs": [],
   "source": [
    "cropped_padded_array = img_array[mask_min_x - int(svd_window_size / 2):mask_min_x + patch_window_width + int(svd_window_size / 2), mask_min_y - int(svd_window_size / 2):mask_min_y + patch_window_height + int(svd_window_size / 2)]"
   ]
  },
  {
   "cell_type": "code",
   "execution_count": null,
   "metadata": {},
   "outputs": [],
   "source": [
    "figure, axes = plt.subplots(1, 2, figsize=(15, 15))\n",
    "\n",
    "# Define kernel for x differences.\n",
    "kernel_x = np.array([[1, 0, -1], [2, 0, -2], [1, 0, -1]])\n",
    "\n",
    "# Define kernel for y differences.\n",
    "kernel_y = np.array([[1, 2, 1], [0, 0, 0], [-1, -2, -1]])\n",
    "\n",
    "# Perform x convolution.\n",
    "dx=ndimage.convolve(cropped_array, kernel_x)\n",
    "\n",
    "# Perform y convolution.\n",
    "dy=ndimage.convolve(cropped_array, kernel_y)\n",
    "\n",
    "# Display dx & dy.\n",
    "show_colored_image(figure, axes[0], dx)\n",
    "axes[0].set_title(f'dx size={dx.shape}')\n",
    "show_colored_image(figure, axes[1], dy)\n",
    "axes[0].set_title(f'dy size={dy.shape}')"
   ]
  },
  {
   "cell_type": "code",
   "execution_count": null,
   "metadata": {
    "scrolled": false
   },
   "outputs": [],
   "source": [
    "# Create windows.\n",
    "print('Creating windows:')\n",
    "dx_windows = view_as_windows(dx, (svd_window_size, svd_window_size))\n",
    "dy_windows = view_as_windows(dy, (svd_window_size, svd_window_size))\n",
    "print('Creating windows done.')\n",
    "\n",
    "# Extract a random patch\n",
    "svd_center_x = random.randint(int(svd_window_size/2),dx_windows.shape[1]-int(svd_window_size/2))\n",
    "svd_center_y = random.randint(int(svd_window_size/2),dx_windows.shape[1]-int(svd_window_size/2))\n",
    "\n",
    "print(f'Center x,y = {svd_center_x}, {svd_center_y}')\n",
    "\n",
    "# Get window at x,y.\n",
    "dx_patch = dx_windows[svd_center_y, svd_center_x]\n",
    "dy_patch = dy_windows[svd_center_y, svd_center_x]\n",
    "\n",
    "# Display windows.\n",
    "svd_min_x = svd_center_x - int(svd_window_size/2)\n",
    "svd_min_y = svd_center_y - int(svd_window_size/2)\n",
    "print('dx Patch for SVD:')\n",
    "highlight_rectangle_on_image(dx, svd_min_x, svd_min_y, svd_window_size, svd_window_size, plt.cm.jet)\n",
    "print('dy Patch for SVD:')\n",
    "highlight_rectangle_on_image(dy, svd_min_x, svd_min_y, svd_window_size, svd_window_size, plt.cm.jet)\n",
    "print('')"
   ]
  },
  {
   "cell_type": "code",
   "execution_count": null,
   "metadata": {},
   "outputs": [],
   "source": [
    "def svd_dominant_angle(center_x, center_y, dx_windows, dy_windows, window_size):\n",
    "   dx_patch = dx_windows[center_y-int(window_size/2), center_x-int(window_size/2)]\n",
    "   dy_patch = dy_windows[center_y-int(window_size/2), center_x-int(window_size/2)]\n",
    "   window_area = window_size * window_size\n",
    "   flattened_gradients = np.zeros((window_area, 2))\n",
    "   #print(f'Flattened gradients shape = {flattened_gradients.shape}')\n",
    "   flattened_gradients[:,0] = np.reshape(dx_patch, ((window_area)))\n",
    "   flattened_gradients[:,1] = np.reshape(dy_patch, ((window_area)))\n",
    "   #print('Calculating svd...', flush=True)\n",
    "   U, S, V = linalg.svd(flattened_gradients)\n",
    "   #print('Calculating svd done.', flush=True)\n",
    "   #print(f'V (from SVD) = \\\\n{V}')\n",
    "   dominant_angle = math.atan2(V[0, 0], V[0, 1])\n",
    "   #print(f'Dominant angle = atan2({V[0, 0]}/{V[0, 1]})={dominant_angle}')\n",
    "   return dominant_angle"
   ]
  },
  {
   "cell_type": "code",
   "execution_count": null,
   "metadata": {
    "scrolled": false
   },
   "outputs": [],
   "source": [
    "print('Calculating svd:')\n",
    "dominant_angle = svd_dominant_angle(svd_center_x, svd_center_y, dx_windows, dy_windows, svd_window_size)\n",
    "print('Calculating svd done.')\n",
    "\n",
    "# Show highlighted region.\n",
    "highlight_rectangle_on_image(img_array, mask_min_x, mask_min_y, patch_window_width, patch_window_height)\n",
    "\n",
    "# Overlay dominant angle on top of window.\n",
    "figure, axis = plt.subplots(1, 1, figsize=(10, 10))\n",
    "image_patch_array = img_array[mask_min_y:mask_max_y, mask_min_x:mask_max_x]\n",
    "axis.imshow(image_patch_array, cmap=plt.cm.gray)\n",
    "axis.add_patch(create_highlighted_rectangle(svd_min_x, svd_min_y, svd_window_size, svd_window_size))\n",
    "axis.text(svd_min_x + svd_window_size / 2, svd_min_y + svd_window_size / 2, round(dominant_angle, 2), fontsize=16, horizontalalignment='center', verticalalignment='center', bbox=dict(facecolor='white', alpha=0.5))\n",
    "plt.show()"
   ]
  },
  {
   "cell_type": "code",
   "execution_count": null,
   "metadata": {},
   "outputs": [],
   "source": [
    "def arrow_for_window(window_array, center_x, center_y, window_size, dominant_angle):\n",
    "    arrow_dx = math.cos(dominant_angle) * window_size / 1.1\n",
    "    arrow_dy = math.sin(dominant_angle) * window_size / 1.1 * -1\n",
    "    arrow_x = center_x\n",
    "    arrow_y = center_y\n",
    "#     print(f'x={arrow_x} y={arrow_y} dx={arrow_dx} dy={arrow_dy}')\n",
    "    return mpatches.Arrow(arrow_x, arrow_y, arrow_dx, arrow_dy, width=window_size / 2, color='orange')"
   ]
  },
  {
   "cell_type": "code",
   "execution_count": null,
   "metadata": {},
   "outputs": [],
   "source": [
    "def show_arrow_on_window(window_array, center_x, center_y, window_size, dominant_angle):\n",
    "    fig, ax = plt.subplots(1)\n",
    "    ax.imshow(window_array, cmap=plt.cm.gray)\n",
    "    ax.add_patch(arrow_for_window(window_array, center_x, center_y, window_size, dominant_angle))\n",
    "    plt.show()"
   ]
  },
  {
   "cell_type": "code",
   "execution_count": null,
   "metadata": {},
   "outputs": [],
   "source": [
    "show_arrow_on_window(cropped_array, svd_center_x, svd_center_y, svd_window_size, dominant_angle)"
   ]
  },
  {
   "cell_type": "code",
   "execution_count": null,
   "metadata": {},
   "outputs": [],
   "source": [
    "fig, ax = plt.subplots(1)\n",
    "ax.imshow(cropped_array, cmap=plt.cm.gray)\n",
    "half_window = int(svd_window_size / 2)\n",
    "for x in range(0, dx_windows.shape[0] - half_window, svd_window_size):\n",
    "    for y in range(0, dy_windows.shape[1] - half_window, svd_window_size):\n",
    "        dominant_angle = svd_dominant_angle(x + half_window, y + half_window, dx_windows, dy_windows, svd_window_size)\n",
    "        ax.add_patch(arrow_for_window(cropped_array, x + svd_window_size, y + svd_window_size, svd_window_size, dominant_angle))\n",
    "plt.show()"
   ]
  },
  {
   "cell_type": "code",
   "execution_count": null,
   "metadata": {},
   "outputs": [],
   "source": [
    "# loop through all regions and calculate dominant angles\n",
    "print('Calculating dominant angles:')\n",
    "dominant_angles_array = np.zeros_like(cropped_array, np.single)\n",
    "print(f'dx shape = {dx.shape}')\n",
    "print(f'dominant angles shape = {dominant_angles_array.shape}')\n",
    "print(f'svd window size = {svd_window_size}')\n",
    "center_x_range = range(int(svd_window_size/2), dx.shape[1]-1-int(svd_window_size/2))\n",
    "center_y_range = range(int(svd_window_size/2), dx.shape[0]-1-int(svd_window_size/2))\n",
    "print(f'{center_x_range}, {center_y_range}')\n",
    "for current_svd_center_x in center_x_range:\n",
    "    for current_svd_center_y in center_y_range:\n",
    "        current_dominant_angle = svd_dominant_angle(\n",
    "            current_svd_center_x, current_svd_center_y,\n",
    "            dx_windows, dy_windows, svd_window_size)\n",
    "        dominant_angles_array[current_svd_center_y, current_svd_center_x] = current_dominant_angle\n",
    "        if (random.randint(0,500)==0):\n",
    "            print(f'x={current_svd_center_x}, y={current_svd_center_y}')\n",
    "            print(f'angle={current_dominant_angle}')\n",
    "print('Done calculating dominant angles.')"
   ]
  },
  {
   "cell_type": "code",
   "execution_count": null,
   "metadata": {
    "scrolled": false
   },
   "outputs": [],
   "source": [
    "figure, axis = plt.subplots(1, 1, figsize=(5,5))\n",
    "show_colored_image(figure, axis, dominant_angles_array, plt.cm.jet)\n",
    "axis.add_patch(create_highlighted_rectangle(svd_window_size, svd_window_size, svd_window_size, svd_window_size))\n",
    "# print(dominant_angles_array[svd_window_size:svd_window_size*2,svd_window_size:svd_window_size*2])\n",
    "highlight_rectangle_on_image(img_array, mask_min_x, mask_min_y, patch_window_width, patch_window_height)\n",
    "print('')"
   ]
  },
  {
   "cell_type": "code",
   "execution_count": null,
   "metadata": {
    "scrolled": false
   },
   "outputs": [],
   "source": [
    "har_test = np.zeros(400)\n",
    "for x in range(1, 401):\n",
    "    har_test[x-1] = x\n",
    "har_max = har_test.max()\n",
    "har_min = har_test.min()\n",
    "new_max = 63\n",
    "new_min = 0\n",
    "har_test = (har_test - har_min) / (har_max - har_min)\n",
    "har_test = har_test * (new_max - new_min) + new_min\n",
    "har_test = np.round(har_test)\n",
    "har_test = np.reshape(har_test, (20, 20))\n",
    "# haralick_image = np.zeros(har_test.shape, dtype=int)\n",
    "har_test = har_test.astype(int)\n",
    "print(har_test)\n",
    "figure, axis = plt.subplots(1,1, figsize=(5,5))\n",
    "show_colored_image(figure, axis, har_test)"
   ]
  },
  {
   "cell_type": "code",
   "execution_count": null,
   "metadata": {},
   "outputs": [],
   "source": [
    "# def get_haralick_mt_value(img_array, center_x, center_y, window_size, haralick_feature, direction):\n",
    "#     min_x = int(max(0, center_x - window_size / 2))\n",
    "#     min_y = int(max(0, center_y - window_size / 2))\n",
    "#     max_x = int(min(img_array.shape[1] - 1, center_x + window_size / 2))\n",
    "#     max_y = int(min(img_array.shape[0] - 1, center_y + window_size / 2))\n",
    "#     cropped_img_array = img_array[min_y:max_y, min_x:max_x]\n",
    "# #     cmat = np.empty((64, 64), np.int32)\n",
    "# #     def all_cmatrices():\n",
    "# #         for dir in range(4):\n",
    "# #             mt.features.texture.cooccurence(cropped_img_array, dir, cmat, symmetric=False)\n",
    "# #             yield cmat\n",
    "#     har_feature = mt.features.texture.haralick(img_array)\n",
    "#     return har_feature[direction, haralick_feature]"
   ]
  },
  {
   "cell_type": "code",
   "execution_count": null,
   "metadata": {},
   "outputs": [],
   "source": [
    "# def get_haralick_mt_value(img_array, center_x, center_y, window_size, haralick_feature, direction):\n",
    "#     min_x = int(max(0, center_x - window_size / 2))\n",
    "#     min_y = int(max(0, center_y - window_size / 2))\n",
    "#     max_x = int(min(img_array.shape[1] - 1, center_x + window_size / 2))\n",
    "#     max_y = int(min(img_array.shape[0] - 1, center_y + window_size / 2))\n",
    "#     cropped_img_array = img_array[min_y:max_y, min_x:max_x]\n",
    "#     har_feature = mt.features.texture.haralick(cropped_img_array, return_mean=True)\n",
    "#     return har_feature[haralick_feature]"
   ]
  },
  {
   "cell_type": "code",
   "execution_count": null,
   "metadata": {},
   "outputs": [],
   "source": [
    "def get_haralick_mt_value(img_array, center_x, center_y, window_size, haralick_feature, direction):\n",
    "    min_x = int(max(0, center_x - window_size / 2))\n",
    "    min_y = int(max(0, center_y - window_size / 2))\n",
    "    max_x = int(min(img_array.shape[1] - 1, center_x + window_size / 2))\n",
    "    max_y = int(min(img_array.shape[0] - 1, center_y + window_size / 2))\n",
    "    cropped_img_array = img_array[min_y:max_y, min_x:max_x]\n",
    "    cmat = np.empty((64, 64), np.int32)\n",
    "    def all_cmatrices():\n",
    "        for dir in range(4):\n",
    "            mt.features.texture.cooccurence(cropped_img_array, dir, cmat, symmetric=False)\n",
    "            yield cmat\n",
    "    har_feature = mt.features.texture.haralick_features(all_cmatrices())\n",
    "    return har_feature[direction, haralick_feature]"
   ]
  },
  {
   "cell_type": "code",
   "execution_count": null,
   "metadata": {},
   "outputs": [],
   "source": [
    "def get_haralick_mt_feature(img, desired_haralick_feature, direction, haralick_window_size):\n",
    "    haralick_image = np.zeros(img.shape)\n",
    "    h, w = img.shape\n",
    "    for pos in product(range(w), range(h)):\n",
    "       result = get_haralick_mt_value(img, pos[0], pos[1], haralick_window_size, desired_haralick_feature, direction)\n",
    "       haralick_image[pos[1], pos[0]] = result\n",
    "    return haralick_image"
   ]
  },
  {
   "cell_type": "code",
   "execution_count": null,
   "metadata": {},
   "outputs": [],
   "source": [
    "cropped_array_max = cropped_array.max()\n",
    "cropped_array_min = cropped_array.min()\n",
    "new_max = 63\n",
    "new_min = 0\n",
    "cropped_array_shaped = (cropped_array - cropped_array_min) / (cropped_array_max - cropped_array_min)\n",
    "cropped_array_shaped = cropped_array_shaped * (new_max - new_min) + new_min\n",
    "cropped_array_shaped = np.round(cropped_array_shaped)\n",
    "cropped_array_shaped = cropped_array_shaped.astype(int)\n",
    "figure, axis = plt.subplots(1,1, figsize=(5,5))\n",
    "show_colored_image(figure, axis, cropped_array_shaped)"
   ]
  },
  {
   "cell_type": "code",
   "execution_count": null,
   "metadata": {
    "scrolled": false
   },
   "outputs": [],
   "source": [
    "plt.rc('figure', max_open_warning = 0)\n",
    "for feature in range(13):\n",
    "    for direction in range(4):\n",
    "        result = get_haralick_mt_feature(cropped_array_shaped, feature, direction, 20)\n",
    "        figure, axis = plt.subplots(1,1, figsize=(5,5))\n",
    "        show_colored_image(figure, axis, result)\n",
    "        axis.set_title(feature+1)"
   ]
  },
  {
   "cell_type": "code",
   "execution_count": null,
   "metadata": {
    "scrolled": false
   },
   "outputs": [],
   "source": [
    "for feature in range(13):\n",
    "    for direction in range(4):\n",
    "        result = get_haralick_mt_feature(har_test, feature, direction, 20)\n",
    "        figure, axis = plt.subplots(1,1, figsize=(5,5))\n",
    "        show_colored_image(figure, axis, result)\n",
    "        axis.set_title(feature+1)"
   ]
  },
  {
   "cell_type": "code",
   "execution_count": null,
   "metadata": {},
   "outputs": [],
   "source": [
    "def get_haralick_pyradiomics_value(img_array, center_x, center_y, window_size, haralick_feature):\n",
    "    sitk_image = sitk.GetImageFromArray(img_array)\n",
    "    haralick_mask = np.full(img_array.shape, 0)\n",
    "    min_x = int(max(0, center_x - window_size / 2))\n",
    "    min_y = int(max(0, center_y - window_size / 2))\n",
    "    max_x = int(min(img_array.shape[1] - 1, center_x + window_size / 2))\n",
    "    max_y = int(min(img_array.shape[0] - 1, center_y + window_size / 2))\n",
    "    print(f'{min_x}, {min_y}, {max_x}, {max_y}')\n",
    "    haralick_mask[min_y:max_y, min_x:max_x] = 1\n",
    "    sitk_mask = sitk.GetImageFromArray(haralick_mask)\n",
    "    haralick = RadiomicsGLCM(sitk_image, sitk_mask)\n",
    "    haralick.enableFeatureByName(haralick_feature.value[0])\n",
    "    haralick.execute()\n",
    "    return haralick_feature.value[1](haralick)[0]"
   ]
  },
  {
   "cell_type": "code",
   "execution_count": null,
   "metadata": {},
   "outputs": [],
   "source": [
    "# class HaralickFeature(Enum):\n",
    "#     JointEntropy = ('JointEntropy', RadiomicsGLCM.getJointEntropyFeatureValue)\n",
    "#     JointEnergy = ('JointEnergy', RadiomicsGLCM.getJointEnergyFeatureValue)\n",
    "#     SumSquares = ('SumSquares', RadiomicsGLCM.getSumSquaresFeatureValue)\n",
    "#     Idm = ('Idm', RadiomicsGLCM.getIdmFeatureValue)\n",
    "#     Correlation = ('Correlation', RadiomicsGLCM.getCorrelationFeatureValue)\n",
    "#     Imc1 = ('Imc1', RadiomicsGLCM.getImc1FeatureValue)\n",
    "#     Imc2 = ('Imc2', RadiomicsGLCM.getImc2FeatureValue)\n",
    "#     SumAverage = ('SumAverage', RadiomicsGLCM.getSumAverageFeatureValue)\n",
    "#     ClusterTendency = ('ClusterTendency', RadiomicsGLCM.getClusterTendencyFeatureValue)\n",
    "#     SumEntropy = ('SumEntropy', RadiomicsGLCM.getSumEntropyFeatureValue)\n",
    "#     DifferenceAverage = ('DifferenceAverage', RadiomicsGLCM.getDifferenceAverageFeatureValue)\n",
    "#     DifferenceVariance = ('DifferenceVariance', RadiomicsGLCM.getDifferenceVarianceFeatureValue)\n",
    "#     DifferenceEntropy = ('DifferenceEntropy', RadiomicsGLCM.getDifferenceEntropyFeatureValue)\n",
    "#     # All\n",
    "# desired_haralick_feature = HaralickFeature.Correlation"
   ]
  },
  {
   "cell_type": "code",
   "execution_count": null,
   "metadata": {},
   "outputs": [],
   "source": [
    "# haralick_window_size = 5\n",
    "# haralick_image = np.zeros(cropped_array.shape, dtype=dominant_angles_array.dtype)\n",
    "# sitk_cropped_image = sitk.GetImageFromArray(cropped_array)\n",
    "# cropped_image_mask_array = np.full(img_array.shape, 0)\n",
    "# h, w = cropped_array.shape\n",
    "# print(range(w))\n",
    "# for pos in product(range(h), range(w)):\n",
    "#    result = get_haralick_value(cropped_array, pos[0], pos[1], haralick_window_size, desired_haralick_feature)\n",
    "#    haralick_image[pos[0], pos[1]] = result"
   ]
  },
  {
   "cell_type": "code",
   "execution_count": null,
   "metadata": {},
   "outputs": [],
   "source": [
    "# def get_haralick_feature(desired_haralick_feature):\n",
    "#     h, w = har_test.shape\n",
    "#     for pos in product(range(h), range(w)):\n",
    "#        result = get_haralick_value(har_test, pos[0], pos[1], 20, desired_haralick_feature)\n",
    "#        haralick_image[pos[1], pos[0]] = result"
   ]
  },
  {
   "cell_type": "code",
   "execution_count": null,
   "metadata": {},
   "outputs": [],
   "source": [
    "# result = get_haralick_value(har_test, 0, 0, har_window, desired_haralick_feature)\n",
    "# print(har_window)"
   ]
  },
  {
   "cell_type": "code",
   "execution_count": null,
   "metadata": {},
   "outputs": [],
   "source": []
  },
  {
   "cell_type": "code",
   "execution_count": null,
   "metadata": {},
   "outputs": [],
   "source": []
  }
 ],
 "metadata": {
  "kernelspec": {
   "display_name": "Python 3",
   "language": "python",
   "name": "python3"
  },
  "language_info": {
   "codemirror_mode": {
    "name": "ipython",
    "version": 3
   },
   "file_extension": ".py",
   "mimetype": "text/x-python",
   "name": "python",
   "nbconvert_exporter": "python",
   "pygments_lexer": "ipython3",
   "version": "3.8.2"
  }
 },
 "nbformat": 4,
 "nbformat_minor": 4
}
