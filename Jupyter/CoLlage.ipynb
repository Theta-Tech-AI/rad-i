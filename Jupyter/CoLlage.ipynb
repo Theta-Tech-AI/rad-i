{
 "cells": [
  {
   "cell_type": "code",
   "execution_count": null,
   "metadata": {},
   "outputs": [],
   "source": [
    "from PIL import Image\n",
    "import matplotlib.pyplot as plt\n",
    "from matplotlib.patches import Rectangle\n",
    "import numpy as np\n",
    "from scipy import ndimage\n",
    "from scipy import linalg\n",
    "from skimage.util.shape import view_as_windows\n",
    "import random\n",
    "import math\n",
    "from matplotlib.gridspec import GridSpec\n",
    "import matplotlib.patches as mpatches\n",
    "from mpl_toolkits.axes_grid1 import make_axes_locatable\n",
    "from skimage import io\n",
    "import radiomics\n",
    "from enum import Enum\n",
    "from radiomics.glcm import RadiomicsGLCM\n",
    "import SimpleITK as sitk\n",
    "import imageio\n",
    "from itertools import product\n",
    "import mahotas as mt\n",
    "from eolearn.features.haralick import HaralickTask\n",
    "from eolearn.core import EOPatch\n",
    "from skimage.feature.texture import greycomatrix\n",
    "from sklearn.preprocessing import MinMaxScaler"
   ]
  },
  {
   "cell_type": "code",
   "execution_count": null,
   "metadata": {},
   "outputs": [],
   "source": [
    "# Read sample data.\n",
    "img_s = sitk.ReadImage('../sample_data/ImageSlice.png')\n",
    "mask_s = sitk.ReadImage('../sample_data/ImageMask.png')"
   ]
  },
  {
   "cell_type": "code",
   "execution_count": null,
   "metadata": {
    "scrolled": true
   },
   "outputs": [],
   "source": [
    "# Turn image into a Numpy array.\n",
    "img_array = sitk.GetArrayFromImage(img_s)\n",
    "img_array = img_array[:,:,0]\n",
    "print(f'IMAGE:\\nwidth={img_array.shape[1]} height={img_array.shape[0]}')"
   ]
  },
  {
   "cell_type": "code",
   "execution_count": null,
   "metadata": {},
   "outputs": [],
   "source": [
    "# Create random window.\n",
    "svd_radius = 5\n",
    "patch_window_width = 30\n",
    "patch_window_height = 30\n",
    "mask_min_x = 252\n",
    "mask_min_y = 193\n",
    "mask_max_x = mask_min_x + patch_window_width\n",
    "mask_max_y = mask_min_y + patch_window_height"
   ]
  },
  {
   "cell_type": "code",
   "execution_count": null,
   "metadata": {},
   "outputs": [],
   "source": [
    "def show_colored_image(figure, axis, image_data, colormap=plt.cm.jet):\n",
    "    image = axis.imshow(image_data, cmap=colormap)\n",
    "    divider = make_axes_locatable(axis)\n",
    "    colorbar_axis = divider.append_axes(\"right\", size=\"5%\", pad=0.05)\n",
    "    figure.colorbar(image, cax=colorbar_axis)\n",
    "\n",
    "def create_highlighted_rectangle(x, y, w, h):\n",
    "    return Rectangle((x, y), w, h, linewidth=3, edgecolor='cyan', facecolor='none')\n",
    "\n",
    "def highlight_rectangle_on_image(image_data, min_x, min_y, w, h, colormap=plt.cm.gray):\n",
    "    figure, axes = plt.subplots(1,2, figsize=(15,15))\n",
    "\n",
    "    # Highlight window within image.\n",
    "    show_colored_image(figure, axes[0], image_data, colormap)\n",
    "    axes[0].add_patch(create_highlighted_rectangle(min_x, min_y, w, h))\n",
    "\n",
    "    # Crop window.\n",
    "    cropped_array = image_data[min_y:min_y+h, min_x:min_x+w]\n",
    "    axes[1].set_title(f'Cropped Region ({w}x{h})')\n",
    "    show_colored_image(figure, axes[1], cropped_array, colormap)\n",
    "    \n",
    "    plt.show()\n",
    "    \n",
    "    return cropped_array"
   ]
  },
  {
   "cell_type": "code",
   "execution_count": null,
   "metadata": {
    "scrolled": false
   },
   "outputs": [],
   "source": [
    "cropped_array = highlight_rectangle_on_image(img_array, mask_min_x, mask_min_y, patch_window_width, patch_window_height)\n",
    "print(cropped_array.shape)"
   ]
  },
  {
   "cell_type": "code",
   "execution_count": null,
   "metadata": {},
   "outputs": [],
   "source": [
    "# Extend outwards\n",
    "padded_mask_min_x = max(mask_min_x - svd_radius, 0)\n",
    "padded_mask_min_y = max(mask_min_y - svd_radius, 0)\n",
    "padded_mask_max_x = min(mask_max_x + svd_radius, img_array.shape[1]-1)\n",
    "padded_mask_max_y = min(mask_max_y + svd_radius, img_array.shape[0]-1)\n",
    "print(f'x = {padded_mask_min_x}:{padded_mask_max_x} ({padded_mask_max_x - padded_mask_min_x})')\n",
    "print(f'y = {padded_mask_min_y}:{padded_mask_max_y} ({padded_mask_max_y - padded_mask_min_y})')\n",
    "padded_cropped_array = img_array[padded_mask_min_y:padded_mask_max_y, padded_mask_min_x:padded_mask_max_x]\n",
    "print(padded_cropped_array.shape)"
   ]
  },
  {
   "cell_type": "code",
   "execution_count": null,
   "metadata": {},
   "outputs": [],
   "source": [
    "# Calculate gradient\n",
    "rescaled_padded_cropped_array = padded_cropped_array/256\n",
    "dx=np.gradient(rescaled_padded_cropped_array, axis=1)\n",
    "dy=np.gradient(rescaled_padded_cropped_array, axis=0)\n",
    "\n",
    "# Display dx & dy.\n",
    "figure, axes = plt.subplots(1, 2, figsize=(15, 15))\n",
    "show_colored_image(figure, axes[0], dx)\n",
    "axes[0].set_title(f'Gx size={dx.shape}')\n",
    "show_colored_image(figure, axes[1], dy)\n",
    "axes[1].set_title(f'Gy size={dy.shape}')"
   ]
  },
  {
   "cell_type": "code",
   "execution_count": null,
   "metadata": {},
   "outputs": [],
   "source": [
    "# def svd_dominant_angle(center_x, center_y, dx_windows, dy_windows):\n",
    "def svd_dominant_angle(x, y, dx_windows, dy_windows):\n",
    "    dx_patch = dx_windows[y, x]\n",
    "    dy_patch = dy_windows[y, x]\n",
    "    \n",
    "    window_area = dx_patch.size\n",
    "    flattened_gradients = np.zeros((window_area, 2))\n",
    "    flattened_gradients[:,0] = np.reshape(dx_patch, ((window_area)), order='F')\n",
    "    flattened_gradients[:,1] = np.reshape(dy_patch, ((window_area)), order='F')\n",
    "    \n",
    "    U, S, V = linalg.svd(flattened_gradients)\n",
    "    dominant_angle = math.atan2(V[0, 0], V[1, 0])\n",
    "    \n",
    "    return dominant_angle"
   ]
  },
  {
   "cell_type": "code",
   "execution_count": null,
   "metadata": {},
   "outputs": [],
   "source": [
    "# loop through all regions and calculate dominant angles\n",
    "\n",
    "dominant_angles_array = np.zeros_like(cropped_array, np.single)\n",
    "    \n",
    "print(f'dx shape = {dx.shape}')\n",
    "print(f'dominant angles shape = {dominant_angles_array.shape}')\n",
    "\n",
    "svd_diameter = svd_radius*2+1\n",
    "dx_windows = view_as_windows(dx, (svd_diameter, svd_diameter))\n",
    "dy_windows = view_as_windows(dy, (svd_diameter, svd_diameter))\n",
    "\n",
    "print(f'svd radius = {svd_radius}')\n",
    "print(f'svd diameter = {svd_diameter}')\n",
    "print(f'dx windows shape = {dx_windows.shape}')\n",
    "\n",
    "center_x_range = range(dx_windows.shape[1])\n",
    "center_y_range = range(dx_windows.shape[0])\n",
    "\n",
    "print(f'{center_x_range}, {center_y_range}')\n",
    "for current_svd_center_x in center_x_range:\n",
    "    for current_svd_center_y in center_y_range:\n",
    "        current_dominant_angle = svd_dominant_angle(\n",
    "            current_svd_center_x, current_svd_center_y,\n",
    "            dx_windows, dy_windows)\n",
    "        dominant_angles_array[current_svd_center_y, current_svd_center_x] = current_dominant_angle\n",
    "        if (random.randint(0,500)==0):\n",
    "            print(f'x={current_svd_center_x}, y={current_svd_center_y}')\n",
    "            print(f'angle={current_dominant_angle}')\n",
    "print('Done calculating dominant angles.')"
   ]
  },
  {
   "cell_type": "code",
   "execution_count": null,
   "metadata": {
    "scrolled": false
   },
   "outputs": [],
   "source": [
    "# display dominant angles\n",
    "figure, axis = plt.subplots(1, 1, figsize=(5,5))\n",
    "show_colored_image(figure, axis, dominant_angles_array, plt.cm.jet)\n",
    "axis.set_title('Dominant Angles (SVD)')"
   ]
  },
  {
   "cell_type": "code",
   "execution_count": null,
   "metadata": {},
   "outputs": [],
   "source": [
    "def get_haralick_mt_value(img_array, center_x, center_y, window_size, greylevels, haralick_feature, symmetric, mean):\n",
    "    \n",
    "    # extract subpart of image (todo: pass in result from view_as_windows)\n",
    "    min_x = int(max(0, center_x - window_size / 2 - 1))\n",
    "    min_y = int(max(0, center_y - window_size / 2 - 1))\n",
    "    max_x = int(min(img_array.shape[1] - 1, center_x + window_size / 2 + 1))\n",
    "    max_y = int(min(img_array.shape[0] - 1, center_y + window_size / 2 + 1))\n",
    "    cropped_img_array = img_array[min_y:max_y, min_x:max_x]\n",
    "    \n",
    "    # co-occurence matrix of all 8 directions and sum them\n",
    "    cmat = greycomatrix(cropped_img_array, [1], [0, 1*np.pi/4, 2*np.pi/4, 3*np.pi/4, 4*np.pi/4, 5*np.pi/4, 6*np.pi/4, 7*np.pi/4], levels=greylevels)\n",
    "    cmat = np.sum(cmat, axis=3);\n",
    "    cmat = cmat[:,:,0]\n",
    "    \n",
    "    # extract haralick using mahotas library:\n",
    "    har_feature = mt.features.texture.haralick_features([cmat], return_mean=mean)\n",
    "    \n",
    "    # output:\n",
    "    if mean:\n",
    "        return har_feature[haralick_feature]\n",
    "    return har_feature[direction, haralick_feature]"
   ]
  },
  {
   "cell_type": "code",
   "execution_count": null,
   "metadata": {},
   "outputs": [],
   "source": [
    "def get_haralick_mt_feature(img, desired_haralick_feature, greylevels, haralick_window_size, symmetric=False, mean=False):\n",
    "    haralick_image = np.zeros(img.shape)\n",
    "    h, w = img.shape\n",
    "    for pos in product(range(w), range(h)):\n",
    "       result = get_haralick_mt_value(img, pos[0], pos[1], haralick_window_size, greylevels, desired_haralick_feature, symmetric, mean)\n",
    "       haralick_image[pos[1], pos[0]] = result\n",
    "    return haralick_image"
   ]
  },
  {
   "cell_type": "code",
   "execution_count": null,
   "metadata": {},
   "outputs": [],
   "source": [
    "# Rescale the range of the pixels to have discrete grey level values\n",
    "greylevels = 64\n",
    "\n",
    "new_max = greylevels-1\n",
    "new_min = 0\n",
    "\n",
    "dominant_angles_max = dominant_angles_array.max()\n",
    "dominant_angles_min = dominant_angles_array.min()\n",
    "\n",
    "dominant_angles_shaped = (dominant_angles_array - dominant_angles_min) / (dominant_angles_max - dominant_angles_min)\n",
    "dominant_angles_shaped = dominant_angles_shaped * (new_max - new_min) + new_min\n",
    "dominant_angles_shaped = np.round(dominant_angles_shaped)\n",
    "dominant_angles_shaped = dominant_angles_shaped.astype(int)\n",
    "\n",
    "# display:\n",
    "figure, axis = plt.subplots(1,1, figsize=(5,5))\n",
    "show_colored_image(figure, axis, dominant_angles_shaped)\n",
    "direction = 0"
   ]
  },
  {
   "cell_type": "code",
   "execution_count": null,
   "metadata": {},
   "outputs": [],
   "source": [
    "haralick_window_size = svd_radius * 2 + 1\n",
    "\n",
    "figure, axes = plt.subplots(3, 5, figsize=(15,15))\n",
    "\n",
    "for row in range(3):\n",
    "    for col in range(5):\n",
    "        feature = row*5+col\n",
    "        axis = axes[row][col]\n",
    "        axis.set_axis_off()\n",
    "        if feature>=13:\n",
    "            continue\n",
    "        print(f'Calculating feature {feature+1}:')\n",
    "        result = get_haralick_mt_feature(dominant_angles_shaped, feature, greylevels, haralick_window_size, symmetric=False, mean=True)\n",
    "        print(f'Calculated.')\n",
    "        show_colored_image(figure, axis, result)\n",
    "        axis.set_title(f'Har {feature+1}')\n",
    "        #axis.get_xaxis().set_visible(False)\n",
    "        #axis.get_yaxis().set_visible(False)"
   ]
  }
 ],
 "metadata": {
  "kernelspec": {
   "display_name": "Python 3",
   "language": "python",
   "name": "python3"
  },
  "language_info": {
   "codemirror_mode": {
    "name": "ipython",
    "version": 3
   },
   "file_extension": ".py",
   "mimetype": "text/x-python",
   "name": "python",
   "nbconvert_exporter": "python",
   "pygments_lexer": "ipython3",
   "version": "3.8.2"
  }
 },
 "nbformat": 4,
 "nbformat_minor": 4
}
